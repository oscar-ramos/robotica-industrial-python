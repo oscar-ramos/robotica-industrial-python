{
 "cells": [
  {
   "cell_type": "markdown",
   "metadata": {},
   "source": [
    "## Representaciones Espaciales\n",
    "[![Open In Colab](https://colab.research.google.com/assets/colab-badge.svg)](https://colab.research.google.com/github/oscar-ramos/robotica-industrial-python/blob/main/3-Representaciones-Espaciales/3-1-Representaciones-Espaciales.ipynb)\n",
    "\n",
    "Oscar E. Ramos Ponce, Universidad de Ingeniería y Tecnología - UTEC\n",
    "- Robótica Industrial\n",
    "\n",
    "Este archivo contiene algunos ejemplos de las diapositivas del curso"
   ]
  },
  {
   "cell_type": "code",
   "execution_count": 1,
   "metadata": {},
   "outputs": [],
   "source": [
    "import numpy as np"
   ]
  },
  {
   "cell_type": "markdown",
   "metadata": {},
   "source": [
    "## 2. Matriz de Rotación"
   ]
  },
  {
   "cell_type": "markdown",
   "metadata": {},
   "source": [
    "### Diapositiva 16: Matriz de Rotación - Ejemplo 1"
   ]
  },
  {
   "cell_type": "code",
   "execution_count": 2,
   "metadata": {},
   "outputs": [
    {
     "name": "stdout",
     "output_type": "stream",
     "text": [
      "[[ 6.123234e-17 -1.000000e+00  6.123234e-17]\n",
      " [ 1.000000e+00  6.123234e-17  6.123234e-17]\n",
      " [ 6.123234e-17  6.123234e-17  1.000000e+00]]\n"
     ]
    }
   ],
   "source": [
    "# Parte a) Rotación del sistema B respecto del sistema A\n",
    "\n",
    "R = np.array([[np.cos(np.pi/2),   np.cos(np.pi), np.cos(np.pi/2)],\n",
    "              [      np.cos(0), np.cos(np.pi/2), np.cos(np.pi/2)],\n",
    "              [np.cos(np.pi/2), np.cos(np.pi/2),       np.cos(0)]])\n",
    "\n",
    "print(R)  # No muestra 1 ni 0 debido a aproximaciones del coseno "
   ]
  },
  {
   "cell_type": "code",
   "execution_count": 3,
   "metadata": {},
   "outputs": [
    {
     "name": "stdout",
     "output_type": "stream",
     "text": [
      "[[ 0. -1.  0.]\n",
      " [ 1.  0.  0.]\n",
      " [ 0.  0.  1.]]\n"
     ]
    }
   ],
   "source": [
    "print(np.round(R,3))     # Se sugiere redondear"
   ]
  },
  {
   "cell_type": "code",
   "execution_count": 4,
   "metadata": {},
   "outputs": [
    {
     "name": "stdout",
     "output_type": "stream",
     "text": [
      "[[ 0.  1.  0.]\n",
      " [-1.  0.  0.]\n",
      " [ 0.  0.  1.]]\n"
     ]
    }
   ],
   "source": [
    "# Parte b) Rotación del sistema A respecto del sistema B \n",
    "# Por facilidad se puede crear un 'alias' para el coseno y pi de NumPy\n",
    "cos = np.cos\n",
    "pi = np.pi\n",
    "\n",
    "R = np.array([[cos(pi/2),    cos(0), cos(pi/2)],\n",
    "              [  cos(pi), cos(pi/2), cos(pi/2)],\n",
    "              [cos(pi/2), cos(pi/2),    cos(0)]])\n",
    "print(np.round(R,3))"
   ]
  },
  {
   "cell_type": "markdown",
   "metadata": {},
   "source": [
    "### Diapositiva 17: Matriz de Rotación - Ejemplo 2"
   ]
  },
  {
   "cell_type": "markdown",
   "metadata": {},
   "source": [
    "Para utilizar elementos simbólicos se utilizará la biblioteca `sympy` de Python"
   ]
  },
  {
   "cell_type": "code",
   "execution_count": 5,
   "metadata": {},
   "outputs": [],
   "source": [
    "import sympy as sp"
   ]
  },
  {
   "cell_type": "code",
   "execution_count": 6,
   "metadata": {},
   "outputs": [
    {
     "data": {
      "text/latex": [
       "$\\displaystyle \\left[\\begin{matrix}\\cos{\\left(t \\right)} & - \\sin{\\left(t \\right)} & 0\\\\\\sin{\\left(t \\right)} & \\cos{\\left(t \\right)} & 0\\\\0 & 0 & 1\\end{matrix}\\right]$"
      ],
      "text/plain": [
       "Matrix([\n",
       "[cos(t), -sin(t), 0],\n",
       "[sin(t),  cos(t), 0],\n",
       "[     0,       0, 1]])"
      ]
     },
     "execution_count": 6,
     "metadata": {},
     "output_type": "execute_result"
    }
   ],
   "source": [
    "# Definición de variables simbólicas\n",
    "t = sp.symbols(\"t\")\n",
    "\n",
    "# Matriz de rotación alrededor de z\n",
    "R = sp.Matrix([[        sp.cos(t),  sp.cos(sp.pi/2+t),  sp.cos(sp.pi/2)],\n",
    "               [sp.cos(sp.pi/2-t),          sp.cos(t),  sp.cos(sp.pi/2)],\n",
    "               [  sp.cos(sp.pi/2),    sp.cos(sp.pi/2),        sp.cos(0)]])\n",
    "R"
   ]
  },
  {
   "cell_type": "markdown",
   "metadata": {},
   "source": [
    "**NOTA**: EL `cos` DE SYMPY ES DIFERENTE AL `cos` DE NUMPY. IGUALMENTE `sin` y `pi`. Se debe tener cuidado con no mezclar numpy con sympy, especialmente cuando se utiliza \"alias\" para las funciones de numpy."
   ]
  },
  {
   "cell_type": "markdown",
   "metadata": {},
   "source": [
    "### Diapositiva 17: Matriz de Rotación - Ejemplo 3"
   ]
  },
  {
   "cell_type": "markdown",
   "metadata": {},
   "source": [
    "Para realizar gráficos se utilizará la biblioteca `matplotlib` de Python. \n",
    "\n",
    "* Si se utiliza Google Colab es necesario instalar `ipympl` usando pip. Para ello, ejecutar la siguiente línea (solo funciona en Google Colab)"
   ]
  },
  {
   "cell_type": "code",
   "execution_count": 7,
   "metadata": {},
   "outputs": [],
   "source": [
    "if 'google.colab' in str(get_ipython()):\n",
    "    !pip install ipympl --quiet"
   ]
  },
  {
   "cell_type": "markdown",
   "metadata": {},
   "source": [
    "Si se utiliza Google Colab, luego de haber ejecutado la línea anterior, **es necesario reiniciar**. Para ello, ir al menú `Runtime` y escoger `Restart runtime`. Es importante este paso en Google Colab, dado que de otro modo habrá error al momento de realizar la figura.\n",
    "\n",
    "Luego, importar la biblioteca `matplotlib` (y nuevamente `numpy` en caso de haber reiniciado el entorno en Google Colab) "
   ]
  },
  {
   "cell_type": "code",
   "execution_count": 12,
   "metadata": {},
   "outputs": [],
   "source": [
    "import matplotlib.pyplot as plt\n",
    "import numpy as np"
   ]
  },
  {
   "cell_type": "markdown",
   "metadata": {},
   "source": [
    "* Si se utiliza Google Colab se debe ejecutar las siguientes dos líneas, que permiten la ejecución de widgets externos (a colab)"
   ]
  },
  {
   "cell_type": "code",
   "execution_count": 9,
   "metadata": {},
   "outputs": [],
   "source": [
    "if 'google.colab' in str(get_ipython()):\n",
    "    from google.colab import output\n",
    "    output.enable_custom_widget_manager()"
   ]
  },
  {
   "cell_type": "markdown",
   "metadata": {},
   "source": [
    "La siguiente línea permite graficar y visualizar de manera interactiva. Se sugiere las siguientes configuraciones\n",
    "* Si se utiliza Jupyter notebook de Anaconda: `%matplotlib notebook`\n",
    "* Si se utiliza VSCode o Google Colab: `%matplotlib widget`\n",
    "\n",
    "Notar que al escoger una opción, ya no es posible modificarla más adelante. Para cambiar de opción es necesario reiniciar el kernel de Python."
   ]
  },
  {
   "cell_type": "code",
   "execution_count": 11,
   "metadata": {},
   "outputs": [],
   "source": [
    "%matplotlib widget"
   ]
  },
  {
   "cell_type": "code",
   "execution_count": 13,
   "metadata": {},
   "outputs": [
    {
     "data": {
      "image/png": "[encoded data removed]",
      "text/plain": [
       "<Figure size 640x480 with 1 Axes>"
      ]
     },
     "metadata": {},
     "output_type": "display_data"
    }
   ],
   "source": [
    "ax = plt.axes(projection='3d')\n",
    "\n",
    "# Ejes canónicos\n",
    "ax.plot([0,1],[0,0],[0,0], color='k')\n",
    "ax.plot([0,0],[0,1],[0,0], color='k')\n",
    "ax.plot([0,0],[0,0],[0,1], color='k')\n",
    "# Nombres de los ejes\n",
    "ax.text(1, 0, 0, 'x', color='k')\n",
    "ax.text(0, 1, 0, 'y', color='k')\n",
    "ax.text(0, 0, 1, 'z', color='k')\n",
    "\n",
    "# Matriz de rotación\n",
    "R = np.array([[0, -1,  0], \n",
    "              [0,  0, -1], \n",
    "              [1,  0, 0]])\n",
    "\n",
    "# Ejes solicitados\n",
    "ax.plot([0,R[0,0]], [0,R[1,0]], [0,R[2,0]], color='r')\n",
    "ax.plot([0,R[0,1]], [0,R[1,1]], [0,R[2,1]], color='r')\n",
    "ax.plot([0,R[0,2]], [0,R[1,2]], [0,R[2,2]], color='r')\n",
    "\n",
    "# Nombres de los nuevos ejes\n",
    "ax.text(R[0,0], R[1,0], R[2,0], 'x', color='r')\n",
    "ax.text(R[0,1], R[1,1], R[2,1], 'y', color='r')\n",
    "ax.text(R[0,2], R[1,2], R[2,2], 'z', color='r')\n",
    "\n",
    "plt.show()"
   ]
  },
  {
   "cell_type": "markdown",
   "metadata": {},
   "source": [
    "### Diapositiva 20: Transpuesta de una Matriz de Rotación"
   ]
  },
  {
   "cell_type": "code",
   "execution_count": null,
   "metadata": {},
   "outputs": [],
   "source": [
    "import sympy as sp"
   ]
  },
  {
   "cell_type": "code",
   "execution_count": null,
   "metadata": {},
   "outputs": [
    {
     "data": {
      "text/latex": [
       "$\\displaystyle \\left[\\begin{matrix}x_{1} & y_{1} & z_{1}\\\\x_{2} & y_{2} & z_{2}\\\\x_{3} & y_{3} & z_{3}\\end{matrix}\\right]$"
      ],
      "text/plain": [
       "Matrix([\n",
       "[x1, y1, z1],\n",
       "[x2, y2, z2],\n",
       "[x3, y3, z3]])"
      ]
     },
     "execution_count": 12,
     "metadata": {},
     "output_type": "execute_result"
    }
   ],
   "source": [
    "# Variables simbólicas que serán los componentes de los ejes\n",
    "x1,x2,x3,y1,y2,y3,z1,z2,z3 = sp.symbols(\"x1 x2 x3 y1 y2 y3 z1 z2 z3\")\n",
    "\n",
    "# Matriz de rotación con ejes x=(x1,x2,x3), y=(y1,y2,y3), z=(z1,z2,z3)\n",
    "R = sp.Matrix([[x1, y1, z1],\n",
    "               [x2, y2, z2],\n",
    "               [x3, y3, z3]])\n",
    "\n",
    "R"
   ]
  },
  {
   "cell_type": "code",
   "execution_count": null,
   "metadata": {},
   "outputs": [
    {
     "data": {
      "text/latex": [
       "$\\displaystyle \\left[\\begin{matrix}x_{1}^{2} + x_{2}^{2} + x_{3}^{2} & x_{1} y_{1} + x_{2} y_{2} + x_{3} y_{3} & x_{1} z_{1} + x_{2} z_{2} + x_{3} z_{3}\\\\x_{1} y_{1} + x_{2} y_{2} + x_{3} y_{3} & y_{1}^{2} + y_{2}^{2} + y_{3}^{2} & y_{1} z_{1} + y_{2} z_{2} + y_{3} z_{3}\\\\x_{1} z_{1} + x_{2} z_{2} + x_{3} z_{3} & y_{1} z_{1} + y_{2} z_{2} + y_{3} z_{3} & z_{1}^{2} + z_{2}^{2} + z_{3}^{2}\\end{matrix}\\right]$"
      ],
      "text/plain": [
       "Matrix([\n",
       "[x1**2 + x2**2 + x3**2, x1*y1 + x2*y2 + x3*y3, x1*z1 + x2*z2 + x3*z3],\n",
       "[x1*y1 + x2*y2 + x3*y3, y1**2 + y2**2 + y3**2, y1*z1 + y2*z2 + y3*z3],\n",
       "[x1*z1 + x2*z2 + x3*z3, y1*z1 + y2*z2 + y3*z3, z1**2 + z2**2 + z3**2]])"
      ]
     },
     "execution_count": 13,
     "metadata": {},
     "output_type": "execute_result"
    }
   ],
   "source": [
    "# Producto de la transpuesta de R con R\n",
    "R.T * R"
   ]
  },
  {
   "cell_type": "markdown",
   "metadata": {},
   "source": [
    "La expresión anterior es la identidad, considerando que los ejes son unitarios y perpendiculares entre sí"
   ]
  },
  {
   "cell_type": "code",
   "execution_count": null,
   "metadata": {},
   "outputs": [
    {
     "data": {
      "text/latex": [
       "$\\displaystyle \\left[\\begin{matrix}x_{1}^{2} + y_{1}^{2} + z_{1}^{2} & x_{1} x_{2} + y_{1} y_{2} + z_{1} z_{2} & x_{1} x_{3} + y_{1} y_{3} + z_{1} z_{3}\\\\x_{1} x_{2} + y_{1} y_{2} + z_{1} z_{2} & x_{2}^{2} + y_{2}^{2} + z_{2}^{2} & x_{2} x_{3} + y_{2} y_{3} + z_{2} z_{3}\\\\x_{1} x_{3} + y_{1} y_{3} + z_{1} z_{3} & x_{2} x_{3} + y_{2} y_{3} + z_{2} z_{3} & x_{3}^{2} + y_{3}^{2} + z_{3}^{2}\\end{matrix}\\right]$"
      ],
      "text/plain": [
       "Matrix([\n",
       "[x1**2 + y1**2 + z1**2, x1*x2 + y1*y2 + z1*z2, x1*x3 + y1*y3 + z1*z3],\n",
       "[x1*x2 + y1*y2 + z1*z2, x2**2 + y2**2 + z2**2, x2*x3 + y2*y3 + z2*z3],\n",
       "[x1*x3 + y1*y3 + z1*z3, x2*x3 + y2*y3 + z2*z3, x3**2 + y3**2 + z3**2]])"
      ]
     },
     "execution_count": 14,
     "metadata": {},
     "output_type": "execute_result"
    }
   ],
   "source": [
    "# Producto de R con su transpuesta\n",
    "R*R.T"
   ]
  },
  {
   "cell_type": "markdown",
   "metadata": {},
   "source": [
    "### Diapositiva 22: Determinante de una Matriz de Rotación"
   ]
  },
  {
   "cell_type": "code",
   "execution_count": null,
   "metadata": {},
   "outputs": [
    {
     "data": {
      "text/latex": [
       "$\\displaystyle \\left[\\begin{matrix}x_{1} & y_{1} & z_{1}\\\\x_{2} & y_{2} & z_{2}\\\\x_{3} & y_{3} & z_{3}\\end{matrix}\\right]$"
      ],
      "text/plain": [
       "Matrix([\n",
       "[x1, y1, z1],\n",
       "[x2, y2, z2],\n",
       "[x3, y3, z3]])"
      ]
     },
     "execution_count": 15,
     "metadata": {},
     "output_type": "execute_result"
    }
   ],
   "source": [
    "# Matriz de rotación con ejes x=(x1,x2,x3), y=(y1,y2,y3), z=(z1,z2,z3)\n",
    "R = sp.Matrix([[x1, y1, z1],\n",
    "               [x2, y2, z2],\n",
    "               [x3, y3, z3]])\n",
    "R"
   ]
  },
  {
   "cell_type": "code",
   "execution_count": null,
   "metadata": {},
   "outputs": [
    {
     "data": {
      "text/latex": [
       "$\\displaystyle x_{1} y_{2} z_{3} - x_{1} y_{3} z_{2} - x_{2} y_{1} z_{3} + x_{2} y_{3} z_{1} + x_{3} y_{1} z_{2} - x_{3} y_{2} z_{1}$"
      ],
      "text/plain": [
       "x1*y2*z3 - x1*y3*z2 - x2*y1*z3 + x2*y3*z1 + x3*y1*z2 - x3*y2*z1"
      ]
     },
     "execution_count": 16,
     "metadata": {},
     "output_type": "execute_result"
    }
   ],
   "source": [
    "# Determinante\n",
    "detR = R.det()\n",
    "detR"
   ]
  },
  {
   "cell_type": "code",
   "execution_count": null,
   "metadata": {},
   "outputs": [
    {
     "data": {
      "text/latex": [
       "$\\displaystyle x_{1} \\left(y_{2} z_{3} - y_{3} z_{2}\\right) + x_{2} \\left(- y_{1} z_{3} + y_{3} z_{1}\\right) + x_{3} \\left(y_{1} z_{2} - y_{2} z_{1}\\right)$"
      ],
      "text/plain": [
       "x1*(y2*z3 - y3*z2) + x2*(-y1*z3 + y3*z1) + x3*(y1*z2 - y2*z1)"
      ]
     },
     "execution_count": 17,
     "metadata": {},
     "output_type": "execute_result"
    }
   ],
   "source": [
    "# Factorizando elementos del determinante\n",
    "sp.collect(detR, ('x1', 'x2', 'x3'))"
   ]
  },
  {
   "cell_type": "code",
   "execution_count": null,
   "metadata": {},
   "outputs": [
    {
     "data": {
      "text/latex": [
       "$\\displaystyle \\left[\\begin{matrix}y_{2} z_{3} - y_{3} z_{2}\\\\- y_{1} z_{3} + y_{3} z_{1}\\\\y_{1} z_{2} - y_{2} z_{1}\\end{matrix}\\right]$"
      ],
      "text/plain": [
       "Matrix([\n",
       "[ y2*z3 - y3*z2],\n",
       "[-y1*z3 + y3*z1],\n",
       "[ y1*z2 - y2*z1]])"
      ]
     },
     "execution_count": 18,
     "metadata": {},
     "output_type": "execute_result"
    }
   ],
   "source": [
    "# Producto cruz de y con z (debe ser igual a x)\n",
    "y = sp.Matrix([y1, y2, y3])\n",
    "z = sp.Matrix([z1, z2, z3])\n",
    "y.cross(z)"
   ]
  },
  {
   "cell_type": "markdown",
   "metadata": {},
   "source": [
    "### Diapositiva 24: Matriz de Rotación - Ejemplo 5"
   ]
  },
  {
   "cell_type": "code",
   "execution_count": null,
   "metadata": {},
   "outputs": [
    {
     "data": {
      "text/plain": [
       "-1.0"
      ]
     },
     "execution_count": 19,
     "metadata": {},
     "output_type": "execute_result"
    }
   ],
   "source": [
    "# a)\n",
    "R = np.array([[         -1/2,  0, -np.sqrt(3)/2],\n",
    "              [            0,  1,             0],\n",
    "              [-np.sqrt(3)/2,  0,           1/2]])\n",
    "\n",
    "detR = np.linalg.det(R)\n",
    "np.round(detR, 3)"
   ]
  },
  {
   "cell_type": "code",
   "execution_count": null,
   "metadata": {},
   "outputs": [
    {
     "data": {
      "text/plain": [
       "1.0"
      ]
     },
     "execution_count": 20,
     "metadata": {},
     "output_type": "execute_result"
    }
   ],
   "source": [
    "# b)\n",
    "R = np.array([[         -1/2,  0, -np.sqrt(3)/2],\n",
    "              [            0,  1,             0],\n",
    "              [ np.sqrt(3)/2,  0,          -1/2]])\n",
    "\n",
    "# Condición 1\n",
    "detR = np.linalg.det(R)\n",
    "np.round(detR, 3)"
   ]
  },
  {
   "cell_type": "code",
   "execution_count": null,
   "metadata": {},
   "outputs": [
    {
     "data": {
      "text/plain": [
       "array([[1., 0., 0.],\n",
       "       [0., 1., 0.],\n",
       "       [0., 0., 1.]])"
      ]
     },
     "execution_count": 21,
     "metadata": {},
     "output_type": "execute_result"
    }
   ],
   "source": [
    "# Condición 2\n",
    "R.dot(R.T)"
   ]
  },
  {
   "cell_type": "code",
   "execution_count": null,
   "metadata": {},
   "outputs": [
    {
     "data": {
      "text/plain": [
       "array([[1., 0., 0.],\n",
       "       [0., 1., 0.],\n",
       "       [0., 0., 1.]])"
      ]
     },
     "execution_count": 22,
     "metadata": {},
     "output_type": "execute_result"
    }
   ],
   "source": [
    "# Esta verificación no es necesaria ya que si se cumple la anterior, también se cumplirá\n",
    "R.T.dot(R)"
   ]
  },
  {
   "cell_type": "markdown",
   "metadata": {},
   "source": [
    "### Diapositiva 30: Matriz de Rotación - Ejemplo 6"
   ]
  },
  {
   "cell_type": "code",
   "execution_count": null,
   "metadata": {},
   "outputs": [
    {
     "data": {
      "text/plain": [
       "array([[ 0.25 ,  0.433,  0.866],\n",
       "       [ 0.866, -0.5  ,  0.   ],\n",
       "       [ 0.433,  0.75 , -0.5  ]])"
      ]
     },
     "execution_count": 23,
     "metadata": {},
     "output_type": "execute_result"
    }
   ],
   "source": [
    "R = np.array([[  0.25,  0.433,  0.866],\n",
    "              [ 0.866,   -0.5,    0  ],\n",
    "              [ 0.433,   0.75,  -0.5 ]])\n",
    "R"
   ]
  },
  {
   "cell_type": "code",
   "execution_count": null,
   "metadata": {},
   "outputs": [
    {
     "data": {
      "text/plain": [
       "array([[ 0.25 ,  0.866,  0.433],\n",
       "       [ 0.433, -0.5  ,  0.75 ],\n",
       "       [ 0.866,  0.   , -0.5  ]])"
      ]
     },
     "execution_count": 24,
     "metadata": {},
     "output_type": "execute_result"
    }
   ],
   "source": [
    "# a) Transpuesta\n",
    "R.T"
   ]
  },
  {
   "cell_type": "code",
   "execution_count": null,
   "metadata": {},
   "outputs": [
    {
     "name": "stdout",
     "output_type": "stream",
     "text": [
      "0.999945\n"
     ]
    }
   ],
   "source": [
    "# b) Verificación\n",
    "detR = np.linalg.det(R)\n",
    "print(detR)"
   ]
  },
  {
   "cell_type": "code",
   "execution_count": null,
   "metadata": {},
   "outputs": [
    {
     "data": {
      "text/plain": [
       "array([[ 1.,  0.,  0.],\n",
       "       [ 0.,  1., -0.],\n",
       "       [ 0., -0.,  1.]])"
      ]
     },
     "execution_count": 26,
     "metadata": {},
     "output_type": "execute_result"
    }
   ],
   "source": [
    "np.round( R.dot(R.T), 3)"
   ]
  },
  {
   "cell_type": "code",
   "execution_count": null,
   "metadata": {},
   "outputs": [
    {
     "data": {
      "text/plain": [
       "array([[ 0.25 ,  0.866,  0.433],\n",
       "       [ 0.433, -0.5  ,  0.75 ],\n",
       "       [ 0.866, -0.   , -0.5  ]])"
      ]
     },
     "execution_count": 27,
     "metadata": {},
     "output_type": "execute_result"
    }
   ],
   "source": [
    "# c) Inversa\n",
    "invR = np.linalg.inv(R)\n",
    "np.round(invR, 3)"
   ]
  },
  {
   "cell_type": "markdown",
   "metadata": {},
   "source": [
    "### Diapositiva 30: Mapeo entre sistemas de Referencia - Ejemplo"
   ]
  },
  {
   "cell_type": "code",
   "execution_count": null,
   "metadata": {},
   "outputs": [
    {
     "data": {
      "text/latex": [
       "$\\displaystyle \\left[\\begin{matrix}d_{2}\\\\d_{1}\\\\0\\end{matrix}\\right]$"
      ],
      "text/plain": [
       "Matrix([\n",
       "[d2],\n",
       "[d1],\n",
       "[ 0]])"
      ]
     },
     "execution_count": 28,
     "metadata": {},
     "output_type": "execute_result"
    }
   ],
   "source": [
    "# a)\n",
    "d1, d2 = sp.symbols(\"d1 d2\")\n",
    "Pb = sp.Matrix([d2, d1, 0])\n",
    "Pb"
   ]
  },
  {
   "cell_type": "code",
   "execution_count": null,
   "metadata": {},
   "outputs": [
    {
     "data": {
      "text/latex": [
       "$\\displaystyle \\left[\\begin{matrix}- d_{1}\\\\d_{2}\\\\0\\end{matrix}\\right]$"
      ],
      "text/plain": [
       "Matrix([\n",
       "[-d1],\n",
       "[ d2],\n",
       "[  0]])"
      ]
     },
     "execution_count": 29,
     "metadata": {},
     "output_type": "execute_result"
    }
   ],
   "source": [
    "# b)\n",
    "Rab = sp.Matrix([[0, -1,  0],\n",
    "                 [1,  0,  0],\n",
    "                 [0,  0,  1]])\n",
    "\n",
    "Pa = Rab*Pb\n",
    "Pa"
   ]
  },
  {
   "cell_type": "markdown",
   "metadata": {},
   "source": [
    "### Diapositiva 31: Operador de rotación - Ejemplo"
   ]
  },
  {
   "cell_type": "code",
   "execution_count": null,
   "metadata": {},
   "outputs": [
    {
     "data": {
      "text/plain": [
       "array([0.        , 1.        , 1.73205081])"
      ]
     },
     "execution_count": 30,
     "metadata": {},
     "output_type": "execute_result"
    }
   ],
   "source": [
    "# Usando numpy (cálculos numéricos)\n",
    "\n",
    "p1 = np.array([0, np.sqrt(3), 1])\n",
    "R = np.array([[1, 0, 0],\n",
    "              [0, np.cos(np.deg2rad(30)), -np.sin(np.deg2rad(30))],\n",
    "              [0, np.sin(np.deg2rad(30)),  np.cos(np.deg2rad(30))]])\n",
    "\n",
    "p2 = R.dot(p1)\n",
    "p2"
   ]
  },
  {
   "cell_type": "code",
   "execution_count": null,
   "metadata": {},
   "outputs": [
    {
     "data": {
      "text/latex": [
       "$\\displaystyle \\left[\\begin{matrix}0\\\\1\\\\\\sqrt{3}\\end{matrix}\\right]$"
      ],
      "text/plain": [
       "Matrix([\n",
       "[      0],\n",
       "[      1],\n",
       "[sqrt(3)]])"
      ]
     },
     "execution_count": 31,
     "metadata": {},
     "output_type": "execute_result"
    }
   ],
   "source": [
    "# Usando sympy (cálculos simbólicos)\n",
    "\n",
    "p1 = sp.Matrix([0, sp.sqrt(3), 1])\n",
    "R = sp.Matrix([[1, 0, 0],\n",
    "               [0, sp.cos(sp.pi/6), -sp.sin(sp.pi/6)],\n",
    "               [0, sp.sin(sp.pi/6),  sp.cos(sp.pi/6)]])\n",
    "\n",
    "p2 = R * p1\n",
    "p2"
   ]
  },
  {
   "cell_type": "markdown",
   "metadata": {},
   "source": [
    "## 3. Transformaciones Homogéneas"
   ]
  },
  {
   "cell_type": "markdown",
   "metadata": {},
   "source": [
    "### Diapositiva 42: Composición de transformaciones homogéneas"
   ]
  },
  {
   "cell_type": "code",
   "execution_count": null,
   "metadata": {},
   "outputs": [
    {
     "data": {
      "text/plain": [
       "array([[ 1.,  0.,  0.,  6.],\n",
       "       [ 0.,  0., -1., -2.],\n",
       "       [ 0.,  1.,  0., 10.],\n",
       "       [ 0.,  0.,  0.,  1.]])"
      ]
     },
     "execution_count": 2,
     "metadata": {},
     "output_type": "execute_result"
    }
   ],
   "source": [
    "def Trasl(x,y,z):\n",
    "    T = np.array([[1, 0, 0, x],\n",
    "                  [0, 1, 0, y], \n",
    "                  [0, 0, 1, z],\n",
    "                  [0, 0, 0, 1]])\n",
    "    return T\n",
    "\n",
    "def Trotx(ang):\n",
    "    Tx = np.array([[1, 0, 0, 0],\n",
    "                   [0, np.cos(ang), -np.sin(ang), 0],\n",
    "                   [0, np.sin(ang),  np.cos(ang), 0],\n",
    "                   [0, 0, 0, 1]])\n",
    "    return Tx\n",
    "\n",
    "T = Trasl(6, -2, 10) @ Trotx(np.pi/2)\n",
    "np.round(T, 3)"
   ]
  },
  {
   "cell_type": "markdown",
   "metadata": {},
   "source": [
    "### Diapositiva 43: Composición de transformaciones homogéneas"
   ]
  },
  {
   "cell_type": "code",
   "execution_count": null,
   "metadata": {},
   "outputs": [],
   "source": [
    "def sTrasl(x,y,z):\n",
    "    T = sp.Matrix([[1, 0, 0, x],\n",
    "                   [0, 1, 0, y], \n",
    "                   [0, 0, 1, z],\n",
    "                   [0, 0, 0, 1]])\n",
    "    return T\n",
    "\n",
    "def sTrotx(ang):\n",
    "    Tx = sp.Matrix([[1, 0, 0, 0],\n",
    "                    [0, sp.cos(ang), -sp.sin(ang), 0],\n",
    "                    [0, sp.sin(ang),  sp.cos(ang), 0],\n",
    "                    [0, 0, 0, 1]])\n",
    "    return Tx\n",
    "\n",
    "def sTrotz(ang):\n",
    "    Tz = sp.Matrix([[sp.cos(ang), -sp.sin(ang), 0, 0],\n",
    "                    [sp.sin(ang),  sp.cos(ang), 0, 0],\n",
    "                    [0, 0, 1, 0],\n",
    "                    [0, 0, 0, 1]])\n",
    "    return Tz"
   ]
  },
  {
   "cell_type": "code",
   "execution_count": null,
   "metadata": {},
   "outputs": [
    {
     "data": {
      "text/latex": [
       "$\\displaystyle \\left[\\begin{matrix}\\cos{\\left(t \\right)} & - \\sin{\\left(t \\right)} & 0 & b\\\\\\sin{\\left(t \\right)} \\cos{\\left(a \\right)} & \\cos{\\left(a \\right)} \\cos{\\left(t \\right)} & - \\sin{\\left(a \\right)} & - d \\sin{\\left(a \\right)}\\\\\\sin{\\left(a \\right)} \\sin{\\left(t \\right)} & \\sin{\\left(a \\right)} \\cos{\\left(t \\right)} & \\cos{\\left(a \\right)} & d \\cos{\\left(a \\right)}\\\\0 & 0 & 0 & 1\\end{matrix}\\right]$"
      ],
      "text/plain": [
       "Matrix([\n",
       "[       cos(t),       -sin(t),       0,         b],\n",
       "[sin(t)*cos(a), cos(a)*cos(t), -sin(a), -d*sin(a)],\n",
       "[sin(a)*sin(t), sin(a)*cos(t),  cos(a),  d*cos(a)],\n",
       "[            0,             0,       0,         1]])"
      ]
     },
     "execution_count": 7,
     "metadata": {},
     "output_type": "execute_result"
    }
   ],
   "source": [
    "# Variables simbólicas\n",
    "a, b, d, t = sp.symbols(\"a b d t\")\n",
    "R = sTrotx(a)*sTrasl(b,0,0)*sTrasl(0,0,d)*sTrotz(t)\n",
    "R"
   ]
  },
  {
   "cell_type": "markdown",
   "metadata": {},
   "source": [
    "### Diapositiva 47: Transformaciones Homogéneas - Ejemplo 1"
   ]
  },
  {
   "cell_type": "code",
   "execution_count": null,
   "metadata": {},
   "outputs": [
    {
     "data": {
      "text/plain": [
       "array([-4,  4,  1,  1])"
      ]
     },
     "execution_count": 9,
     "metadata": {},
     "output_type": "execute_result"
    }
   ],
   "source": [
    "T = np.array([[0, 1, 0, -4],\n",
    "              [-1, 0, 0, 6],\n",
    "              [0, 0, 1, 0],\n",
    "              [0, 0, 0, 1]])\n",
    "p = np.array([2, 0, 1, 1])\n",
    "\n",
    "T.dot(p)"
   ]
  },
  {
   "cell_type": "markdown",
   "metadata": {},
   "source": [
    "### Diapositiva 48: Transformaciones Homogéneas - Ejemplo 2"
   ]
  },
  {
   "cell_type": "code",
   "execution_count": null,
   "metadata": {},
   "outputs": [
    {
     "data": {
      "text/plain": [
       "array([[ 1.,  0.,  0.,  6.],\n",
       "       [ 0.,  0., -1., -2.],\n",
       "       [ 0.,  1.,  0., 10.],\n",
       "       [ 0.,  0.,  0.,  1.]])"
      ]
     },
     "execution_count": 10,
     "metadata": {},
     "output_type": "execute_result"
    }
   ],
   "source": [
    "T = Trasl(6, -2, 10) @ Trotx(np.pi/2)\n",
    "np.round(T, 3)"
   ]
  },
  {
   "cell_type": "code",
   "execution_count": null,
   "metadata": {},
   "outputs": [
    {
     "data": {
      "text/plain": [
       "array([ 1., 10., 12.,  1.])"
      ]
     },
     "execution_count": 11,
     "metadata": {},
     "output_type": "execute_result"
    }
   ],
   "source": [
    "p = np.array([-5, 2, -12, 1])\n",
    "\n",
    "T.dot(p)"
   ]
  },
  {
   "cell_type": "markdown",
   "metadata": {},
   "source": [
    "### Diapositiva 53: Transformaciones homogéneas - Ejemplo 2"
   ]
  },
  {
   "cell_type": "code",
   "execution_count": null,
   "metadata": {},
   "outputs": [
    {
     "data": {
      "text/plain": [
       "array([[ 0.,  1.,  0.,  0.],\n",
       "       [ 1.,  0.,  0.,  0.],\n",
       "       [ 0.,  0., -1.,  2.],\n",
       "       [ 0.,  0.,  0.,  1.]])"
      ]
     },
     "execution_count": 12,
     "metadata": {},
     "output_type": "execute_result"
    }
   ],
   "source": [
    "# b)\n",
    "\n",
    "T01 = np.array([[1,0,0,0], [0,1,0,1], [0,0,1,1], [0,0,0,1]])\n",
    "T02 = np.array([[1,0,0,-0.5], [0,1,0,1.5], [0,0,1,1], [0,0,0,1]])\n",
    "T03 = np.array([[0,1,0,-0.5], [1,0,0,1.5], [0,0,-1,3], [0,0,0,1]])\n",
    "\n",
    "T32 = np.linalg.inv(T03) @ T02\n",
    "T32"
   ]
  },
  {
   "cell_type": "markdown",
   "metadata": {},
   "source": [
    "## 4. Parametrizaciones de la Orientación"
   ]
  },
  {
   "cell_type": "markdown",
   "metadata": {},
   "source": [
    "## a. Ángulos Roll, Pitch, Yaw"
   ]
  },
  {
   "cell_type": "markdown",
   "metadata": {},
   "source": [
    "### Diapositiva 56: Matriz de Rotación Equivalente"
   ]
  },
  {
   "cell_type": "code",
   "execution_count": null,
   "metadata": {},
   "outputs": [],
   "source": [
    "# Definiciones de las matrices de rotación en y, z usando sympy\n",
    "def sroty(ang):\n",
    "    Ry = sp.Matrix([[sp.cos(ang), 0, sp.sin(ang)],\n",
    "                    [0, 1, 0],\n",
    "                    [-sp.sin(ang), 0, sp.cos(ang)]])\n",
    "    return Ry\n",
    "\n",
    "def srotz(ang):\n",
    "    Rz = sp.Matrix([[sp.cos(ang), -sp.sin(ang), 0],\n",
    "                   [sp.sin(ang), sp.cos(ang), 0],\n",
    "                   [0,0,1]])\n",
    "    return Rz\n",
    "\n",
    "def srotx(ang):\n",
    "    Rx = sp.Matrix([[1, 0, 0],\n",
    "                    [0, sp.cos(ang), -sp.sin(ang)],\n",
    "                    [0, sp.sin(ang), sp.cos(ang)]])\n",
    "    return Rx"
   ]
  },
  {
   "cell_type": "code",
   "execution_count": null,
   "metadata": {},
   "outputs": [
    {
     "data": {
      "text/latex": [
       "$\\displaystyle \\left[\\begin{matrix}\\cos{\\left(p \\right)} \\cos{\\left(r \\right)} & \\sin{\\left(p \\right)} \\sin{\\left(y \\right)} \\cos{\\left(r \\right)} - \\sin{\\left(r \\right)} \\cos{\\left(y \\right)} & \\sin{\\left(p \\right)} \\cos{\\left(r \\right)} \\cos{\\left(y \\right)} + \\sin{\\left(r \\right)} \\sin{\\left(y \\right)}\\\\\\sin{\\left(r \\right)} \\cos{\\left(p \\right)} & \\sin{\\left(p \\right)} \\sin{\\left(r \\right)} \\sin{\\left(y \\right)} + \\cos{\\left(r \\right)} \\cos{\\left(y \\right)} & \\sin{\\left(p \\right)} \\sin{\\left(r \\right)} \\cos{\\left(y \\right)} - \\sin{\\left(y \\right)} \\cos{\\left(r \\right)}\\\\- \\sin{\\left(p \\right)} & \\sin{\\left(y \\right)} \\cos{\\left(p \\right)} & \\cos{\\left(p \\right)} \\cos{\\left(y \\right)}\\end{matrix}\\right]$"
      ],
      "text/plain": [
       "Matrix([\n",
       "[cos(p)*cos(r), sin(p)*sin(y)*cos(r) - sin(r)*cos(y), sin(p)*cos(r)*cos(y) + sin(r)*sin(y)],\n",
       "[sin(r)*cos(p), sin(p)*sin(r)*sin(y) + cos(r)*cos(y), sin(p)*sin(r)*cos(y) - sin(y)*cos(r)],\n",
       "[      -sin(p),                        sin(y)*cos(p),                        cos(p)*cos(y)]])"
      ]
     },
     "execution_count": 15,
     "metadata": {},
     "output_type": "execute_result"
    }
   ],
   "source": [
    "# Variables simbólicas\n",
    "r, p, y = sp.symbols(\"r p y\")\n",
    "\n",
    "# Matriz de rotación equivalente\n",
    "R = srotz(r)*sroty(p)*srotx(y)\n",
    "R"
   ]
  },
  {
   "cell_type": "markdown",
   "metadata": {},
   "source": [
    "### Diapositiva 58: Singularidades de RPY"
   ]
  },
  {
   "cell_type": "code",
   "execution_count": null,
   "metadata": {},
   "outputs": [
    {
     "data": {
      "text/latex": [
       "$\\displaystyle \\left[\\begin{matrix}0 & - \\sin{\\left(r - y \\right)} & \\cos{\\left(r - y \\right)}\\\\0 & \\cos{\\left(r - y \\right)} & \\sin{\\left(r - y \\right)}\\\\-1 & 0 & 0\\end{matrix}\\right]$"
      ],
      "text/plain": [
       "Matrix([\n",
       "[ 0, -sin(r - y), cos(r - y)],\n",
       "[ 0,  cos(r - y), sin(r - y)],\n",
       "[-1,           0,          0]])"
      ]
     },
     "execution_count": 16,
     "metadata": {},
     "output_type": "execute_result"
    }
   ],
   "source": [
    "# Cuando pitch = 90\n",
    "R = srotz(r)*sroty(sp.pi/2)*srotx(y)\n",
    "\n",
    "sp.simplify(R)"
   ]
  },
  {
   "cell_type": "code",
   "execution_count": null,
   "metadata": {},
   "outputs": [
    {
     "data": {
      "text/latex": [
       "$\\displaystyle \\left[\\begin{matrix}0 & - \\sin{\\left(r + y \\right)} & - \\cos{\\left(r + y \\right)}\\\\0 & \\cos{\\left(r + y \\right)} & - \\sin{\\left(r + y \\right)}\\\\1 & 0 & 0\\end{matrix}\\right]$"
      ],
      "text/plain": [
       "Matrix([\n",
       "[0, -sin(r + y), -cos(r + y)],\n",
       "[0,  cos(r + y), -sin(r + y)],\n",
       "[1,           0,           0]])"
      ]
     },
     "execution_count": 17,
     "metadata": {},
     "output_type": "execute_result"
    }
   ],
   "source": [
    "# Cuando pitch = -90\n",
    "R = srotz(r)*sroty(-sp.pi/2)*srotx(y)\n",
    "\n",
    "sp.simplify(R)"
   ]
  },
  {
   "cell_type": "markdown",
   "metadata": {},
   "source": [
    "### Diapositiva 59: Ejemplo de RPY"
   ]
  },
  {
   "cell_type": "code",
   "execution_count": null,
   "metadata": {},
   "outputs": [
    {
     "data": {
      "text/plain": [
       "array([[-0.5  , -0.557,  0.663],\n",
       "       [ 0.866, -0.321,  0.383],\n",
       "       [ 0.   ,  0.766,  0.643]])"
      ]
     },
     "execution_count": 18,
     "metadata": {},
     "output_type": "execute_result"
    }
   ],
   "source": [
    "R = np.array([[-0.5, -0.557, 0.663], [0.866, -0.321, 0.383], [0, 0.766, 0.643]])\n",
    "R"
   ]
  },
  {
   "cell_type": "code",
   "execution_count": null,
   "metadata": {},
   "outputs": [
    {
     "name": "stdout",
     "output_type": "stream",
     "text": [
      "RPY en radianes: [ 2.094 -0.     0.872]\n",
      "RPY en grados: [120.00072778  -0.          49.98904228]\n"
     ]
    }
   ],
   "source": [
    "# Primera solución (con + en la raíz cuadrada de pitch)\n",
    "r11 = R[0,0]; r12 = R[0,1]; r13 = R[0,2]\n",
    "r21 = R[1,0]; r22 = R[1,1]; r23 = R[1,2]\n",
    "r31 = R[2,0]; r32 = R[2,1]; r33 = R[2,2]\n",
    "\n",
    "p = np.arctan2(-r31, np.sqrt(r32**2+r33**2))\n",
    "cp = np.cos(p)\n",
    "r = np.arctan2(r21/cp, r11/cp)\n",
    "y = np.arctan2(r32/cp, r33/cp)\n",
    "\n",
    "angulos = np.array([r, p, y])\n",
    "print(\"RPY en radianes:\", np.round(angulos,3))\n",
    "print(\"RPY en grados:\", np.rad2deg(angulos))"
   ]
  },
  {
   "cell_type": "code",
   "execution_count": null,
   "metadata": {},
   "outputs": [
    {
     "name": "stdout",
     "output_type": "stream",
     "text": [
      "RPY en radianes: [-1.047 -3.142 -2.269]\n",
      "RPY en grados: [ -59.99927222 -180.         -130.01095772]\n"
     ]
    }
   ],
   "source": [
    "# Segunda solución (con - en la raíz cuadrada de pitch)\n",
    "\n",
    "p = np.arctan2(-r31, -np.sqrt(r32**2+r33**2))\n",
    "cp = np.cos(p)\n",
    "r = np.arctan2(r21/cp, r11/cp)\n",
    "y = np.arctan2(r32/cp, r33/cp)\n",
    "\n",
    "angulos = np.array([r, p, y])\n",
    "print(\"RPY en radianes:\", np.round(angulos,3))\n",
    "print(\"RPY en grados:\", np.rad2deg(angulos))"
   ]
  },
  {
   "cell_type": "markdown",
   "metadata": {},
   "source": [
    "## b. Coordenadas Exponenciales - Eje/Ángulo"
   ]
  },
  {
   "cell_type": "markdown",
   "metadata": {},
   "source": [
    "### Diapositiva 65: Fórmula de Rodrigues"
   ]
  },
  {
   "cell_type": "code",
   "execution_count": null,
   "metadata": {},
   "outputs": [
    {
     "data": {
      "text/latex": [
       "$\\displaystyle \\left[\\begin{matrix}0 & - z & y\\\\z & 0 & - x\\\\- y & x & 0\\end{matrix}\\right]$"
      ],
      "text/plain": [
       "Matrix([\n",
       "[ 0, -z,  y],\n",
       "[ z,  0, -x],\n",
       "[-y,  x,  0]])"
      ]
     },
     "execution_count": 21,
     "metadata": {},
     "output_type": "execute_result"
    }
   ],
   "source": [
    "t, x, y, z = sp.symbols(\"t x y z\")\n",
    "\n",
    "# Por facilidad se llamará (x,y,z) a los elementos del vector u\n",
    "uhat = sp.Matrix([[   0, -z,  y],\n",
    "                  [  z,   0, -x],\n",
    "                  [ -y,  x,   0]])\n",
    "uhat      "
   ]
  },
  {
   "cell_type": "code",
   "execution_count": null,
   "metadata": {},
   "outputs": [
    {
     "data": {
      "text/latex": [
       "$\\displaystyle \\left[\\begin{matrix}\\left(1 - \\cos{\\left(t \\right)}\\right) \\left(- y^{2} - z^{2}\\right) + 1 & x y \\left(1 - \\cos{\\left(t \\right)}\\right) - z \\sin{\\left(t \\right)} & x z \\left(1 - \\cos{\\left(t \\right)}\\right) + y \\sin{\\left(t \\right)}\\\\x y \\left(1 - \\cos{\\left(t \\right)}\\right) + z \\sin{\\left(t \\right)} & \\left(1 - \\cos{\\left(t \\right)}\\right) \\left(- x^{2} - z^{2}\\right) + 1 & - x \\sin{\\left(t \\right)} + y z \\left(1 - \\cos{\\left(t \\right)}\\right)\\\\x z \\left(1 - \\cos{\\left(t \\right)}\\right) - y \\sin{\\left(t \\right)} & x \\sin{\\left(t \\right)} + y z \\left(1 - \\cos{\\left(t \\right)}\\right) & \\left(1 - \\cos{\\left(t \\right)}\\right) \\left(- x^{2} - y^{2}\\right) + 1\\end{matrix}\\right]$"
      ],
      "text/plain": [
       "Matrix([\n",
       "[(1 - cos(t))*(-y**2 - z**2) + 1,     x*y*(1 - cos(t)) - z*sin(t),     x*z*(1 - cos(t)) + y*sin(t)],\n",
       "[    x*y*(1 - cos(t)) + z*sin(t), (1 - cos(t))*(-x**2 - z**2) + 1,    -x*sin(t) + y*z*(1 - cos(t))],\n",
       "[    x*z*(1 - cos(t)) - y*sin(t),     x*sin(t) + y*z*(1 - cos(t)), (1 - cos(t))*(-x**2 - y**2) + 1]])"
      ]
     },
     "execution_count": 22,
     "metadata": {},
     "output_type": "execute_result"
    }
   ],
   "source": [
    "R = sp.eye(3) + uhat*sp.sin(t) + uhat*uhat*(1-sp.cos(t))\n",
    "\n",
    "# Forma explícita de la fórmula\n",
    "R"
   ]
  },
  {
   "cell_type": "markdown",
   "metadata": {},
   "source": [
    "### Diapositiva 67: Singularidades de eje-ángulo"
   ]
  },
  {
   "cell_type": "code",
   "execution_count": null,
   "metadata": {},
   "outputs": [
    {
     "data": {
      "text/latex": [
       "$\\displaystyle \\left[\\begin{matrix}1 & 0 & 0\\\\0 & 1 & 0\\\\0 & 0 & 1\\end{matrix}\\right]$"
      ],
      "text/plain": [
       "Matrix([\n",
       "[1, 0, 0],\n",
       "[0, 1, 0],\n",
       "[0, 0, 1]])"
      ]
     },
     "execution_count": 23,
     "metadata": {},
     "output_type": "execute_result"
    }
   ],
   "source": [
    "# Cuando el ángulo es 0\n",
    "t = 0\n",
    "R = sp.eye(3) + uhat*sp.sin(t) + uhat*uhat*(1-sp.cos(t))\n",
    "R"
   ]
  },
  {
   "cell_type": "code",
   "execution_count": null,
   "metadata": {},
   "outputs": [
    {
     "data": {
      "text/latex": [
       "$\\displaystyle \\left[\\begin{matrix}- 2 y^{2} - 2 z^{2} + 1 & 2 x y & 2 x z\\\\2 x y & - 2 x^{2} - 2 z^{2} + 1 & 2 y z\\\\2 x z & 2 y z & - 2 x^{2} - 2 y^{2} + 1\\end{matrix}\\right]$"
      ],
      "text/plain": [
       "Matrix([\n",
       "[-2*y**2 - 2*z**2 + 1,                2*x*y,                2*x*z],\n",
       "[               2*x*y, -2*x**2 - 2*z**2 + 1,                2*y*z],\n",
       "[               2*x*z,                2*y*z, -2*x**2 - 2*y**2 + 1]])"
      ]
     },
     "execution_count": 24,
     "metadata": {},
     "output_type": "execute_result"
    }
   ],
   "source": [
    "# Cuando el ángulo es 180°\n",
    "t = sp.pi\n",
    "R = sp.eye(3) + uhat*sp.sin(t) + uhat*uhat*(1-sp.cos(t))\n",
    "R"
   ]
  },
  {
   "cell_type": "markdown",
   "metadata": {},
   "source": [
    "### Diapositiva 69: Ejemplo 1"
   ]
  },
  {
   "cell_type": "code",
   "execution_count": null,
   "metadata": {},
   "outputs": [
    {
     "data": {
      "text/plain": [
       "array([[ 0.926, -0.304,  0.226],\n",
       "       [ 0.363,  0.881, -0.304],\n",
       "       [-0.107,  0.363,  0.926]])"
      ]
     },
     "execution_count": 25,
     "metadata": {},
     "output_type": "execute_result"
    }
   ],
   "source": [
    "R = np.array([[0.926, -0.304, 0.226], [0.363, 0.881, -0.304], [-0.107, 0.363, 0.926]])\n",
    "R"
   ]
  },
  {
   "cell_type": "code",
   "execution_count": null,
   "metadata": {},
   "outputs": [
    {
     "name": "stdout",
     "output_type": "stream",
     "text": [
      "Ángulo: 29.994679139602383\n",
      "Eje: [0.66710731 0.33305357 0.66710731]\n"
     ]
    }
   ],
   "source": [
    "r11 = R[0,0]; r12 = R[0,1]; r13 = R[0,2]\n",
    "r21 = R[1,0]; r22 = R[1,1]; r23 = R[1,2]\n",
    "r31 = R[2,0]; r32 = R[2,1]; r33 = R[2,2]\n",
    "\n",
    "# Usando la raíz positiva\n",
    "th = np.arctan2(np.sqrt((r21-r12)**2+(r31-r13)**2+(r32-r23)**2)/2, (np.trace(R)-1)/2)\n",
    "u = 1/(2*np.sin(th)) * np.array([r32-r23, r13-r31, r21-r12])\n",
    "\n",
    "print(\"Ángulo:\", np.rad2deg(th))\n",
    "print(\"Eje:\", u)"
   ]
  },
  {
   "cell_type": "code",
   "execution_count": null,
   "metadata": {},
   "outputs": [
    {
     "name": "stdout",
     "output_type": "stream",
     "text": [
      "Ángulo: -29.994679139602383\n",
      "Eje: [-0.66710731 -0.33305357 -0.66710731]\n"
     ]
    }
   ],
   "source": [
    "# Usando la raíz negativa\n",
    "th = np.arctan2(-np.sqrt((r21-r12)**2+(r31-r13)**2+(r32-r23)**2)/2, (np.trace(R)-1)/2)\n",
    "u = 1/(2*np.sin(th)) * np.array([r32-r23, r13-r31, r21-r12])\n",
    "\n",
    "print(\"Ángulo:\", np.rad2deg(th))\n",
    "print(\"Eje:\", u)"
   ]
  },
  {
   "cell_type": "markdown",
   "metadata": {},
   "source": [
    "### Diapositiva 70: Ejemplo 2"
   ]
  },
  {
   "cell_type": "code",
   "execution_count": null,
   "metadata": {},
   "outputs": [
    {
     "data": {
      "text/latex": [
       "$\\displaystyle \\left[\\begin{matrix}1 & 0 & 0\\\\0 & \\cos{\\left(t \\right)} & - \\sin{\\left(t \\right)}\\\\0 & \\sin{\\left(t \\right)} & \\cos{\\left(t \\right)}\\end{matrix}\\right]$"
      ],
      "text/plain": [
       "Matrix([\n",
       "[1,      0,       0],\n",
       "[0, cos(t), -sin(t)],\n",
       "[0, sin(t),  cos(t)]])"
      ]
     },
     "execution_count": 28,
     "metadata": {},
     "output_type": "execute_result"
    }
   ],
   "source": [
    "t = sp.symbols(\"t\")\n",
    "\n",
    "uhat = sp.Matrix([[  0, 0,  0],\n",
    "                  [  0, 0, -1],\n",
    "                  [  0, 1,  0]])\n",
    "R = sp.eye(3) + uhat*sp.sin(t) + uhat*uhat*(1-sp.cos(t))\n",
    "R"
   ]
  },
  {
   "cell_type": "markdown",
   "metadata": {},
   "source": [
    "### Diapositiva 71: Ejemplo 3"
   ]
  },
  {
   "cell_type": "code",
   "execution_count": null,
   "metadata": {},
   "outputs": [
    {
     "data": {
      "text/plain": [
       "array([0.66666667, 0.33333333, 0.66666667])"
      ]
     },
     "execution_count": 29,
     "metadata": {},
     "output_type": "execute_result"
    }
   ],
   "source": [
    "u = np.array([2, 1, 2])\n",
    "u = u/np.linalg.norm(u)\n",
    "u"
   ]
  },
  {
   "cell_type": "code",
   "execution_count": null,
   "metadata": {},
   "outputs": [
    {
     "data": {
      "text/plain": [
       "array([[ 0.926, -0.304,  0.226],\n",
       "       [ 0.363,  0.881, -0.304],\n",
       "       [-0.107,  0.363,  0.926]])"
      ]
     },
     "execution_count": 30,
     "metadata": {},
     "output_type": "execute_result"
    }
   ],
   "source": [
    "t = np.deg2rad(30)\n",
    "uhat = np.array([[     0, -u[2],  u[1]],\n",
    "                 [  u[2],     0, -u[0]],\n",
    "                 [ -u[1],  u[0],    0]])\n",
    "R = np.eye(3) + uhat*np.sin(t) + uhat@uhat*(1-np.cos(t))\n",
    "\n",
    "np.round(R,3)"
   ]
  },
  {
   "cell_type": "code",
   "execution_count": null,
   "metadata": {},
   "outputs": [
    {
     "name": "stdout",
     "output_type": "stream",
     "text": [
      "Determinante: 1.0\n",
      "R*R^T:\n",
      " [[ 1. -0. -0.]\n",
      " [-0.  1. -0.]\n",
      " [-0. -0.  1.]]\n"
     ]
    }
   ],
   "source": [
    "# Verificación:\n",
    "print(\"Determinante:\", np.linalg.det(R))\n",
    "print(\"R*R^T:\\n\", np.round(R@R.T, 3))"
   ]
  },
  {
   "cell_type": "markdown",
   "metadata": {},
   "source": [
    "## c. Cuaterniones Unitarios"
   ]
  },
  {
   "cell_type": "markdown",
   "metadata": {},
   "source": [
    "### Diapositiva 72: Producto de cuaterniones"
   ]
  },
  {
   "cell_type": "code",
   "execution_count": null,
   "metadata": {},
   "outputs": [],
   "source": [
    "x1, y1, z1, w1 = sp.symbols(\"x1 y1 z1 w1\")\n",
    "x2, y2, z2, w2 = sp.symbols(\"x2 y2 z2 w2\")\n",
    "\n",
    "# Parte vectorial del cuaternión 1\n",
    "e1 = sp.Matrix([x1, y1, z1])\n",
    "# Parte vectorial del cuaternión 2\n",
    "e2 = sp.Matrix([x2, y2, z2])"
   ]
  },
  {
   "cell_type": "code",
   "execution_count": null,
   "metadata": {},
   "outputs": [
    {
     "name": "stdout",
     "output_type": "stream",
     "text": [
      "Parte escalar w1*w2 - x1*x2 - y1*y2 - z1*z2\n",
      "Parte vectorial:\n"
     ]
    },
    {
     "data": {
      "text/latex": [
       "$\\displaystyle \\left[\\begin{matrix}w_{1} x_{2} + w_{2} x_{1} + y_{1} z_{2} - y_{2} z_{1}\\\\w_{1} y_{2} + w_{2} y_{1} - x_{1} z_{2} + x_{2} z_{1}\\\\w_{1} z_{2} + w_{2} z_{1} + x_{1} y_{2} - x_{2} y_{1}\\end{matrix}\\right]$"
      ],
      "text/plain": [
       "Matrix([\n",
       "[w1*x2 + w2*x1 + y1*z2 - y2*z1],\n",
       "[w1*y2 + w2*y1 - x1*z2 + x2*z1],\n",
       "[w1*z2 + w2*z1 + x1*y2 - x2*y1]])"
      ]
     },
     "execution_count": 33,
     "metadata": {},
     "output_type": "execute_result"
    }
   ],
   "source": [
    "# Parte escalar del producto (se requiere el [0] ya que el resultad por defecto es un vector de 1 solo elemento, y se desea dicho elemento)\n",
    "w12 = w1*w2 - (e1.T *e2)[0]\n",
    "# Parte vectorial del producto\n",
    "e12 = w1*e2 + w2*e1 + e1.cross(e2)\n",
    "\n",
    "print(\"Parte escalar\", w12)\n",
    "print(\"Parte vectorial:\"); e12"
   ]
  },
  {
   "cell_type": "code",
   "execution_count": null,
   "metadata": {},
   "outputs": [
    {
     "data": {
      "text/latex": [
       "$\\displaystyle \\left[\\begin{matrix}w_{1} w_{2} - x_{1} x_{2} - y_{1} y_{2} - z_{1} z_{2}\\\\w_{1} x_{2} + w_{2} x_{1} + y_{1} z_{2} - y_{2} z_{1}\\\\w_{1} y_{2} + w_{2} y_{1} - x_{1} z_{2} + x_{2} z_{1}\\\\w_{1} z_{2} + w_{2} z_{1} + x_{1} y_{2} - x_{2} y_{1}\\end{matrix}\\right]$"
      ],
      "text/plain": [
       "Matrix([\n",
       "[w1*w2 - x1*x2 - y1*y2 - z1*z2],\n",
       "[w1*x2 + w2*x1 + y1*z2 - y2*z1],\n",
       "[w1*y2 + w2*y1 - x1*z2 + x2*z1],\n",
       "[w1*z2 + w2*z1 + x1*y2 - x2*y1]])"
      ]
     },
     "execution_count": 34,
     "metadata": {},
     "output_type": "execute_result"
    }
   ],
   "source": [
    "# Usando la matriz equivalente para el primer cuaternión\n",
    "Q1hat = sp.Matrix([[ w1, -x1, -y1, -z1],\n",
    "                   [ x1,  w1, -z1,  y1],\n",
    "                   [ y1,  z1,  w1, -x1],\n",
    "                   [ z1, -y1,  x1,  w1]])\n",
    "\n",
    "# Segundo cuaternión \n",
    "Q2 = sp.Matrix([w2, x2, y2, z2])\n",
    "\n",
    "# Cuaternión producto de Q1 y Q2\n",
    "Q1hat * Q2"
   ]
  },
  {
   "cell_type": "markdown",
   "metadata": {},
   "source": [
    "### Diapositiva 77: Ejemplo"
   ]
  },
  {
   "cell_type": "code",
   "execution_count": null,
   "metadata": {},
   "outputs": [
    {
     "data": {
      "text/plain": [
       "array([[ 0.321, -0.117,  0.94 ],\n",
       "       [ 0.683,  0.716, -0.145],\n",
       "       [-0.656,  0.688,  0.31 ]])"
      ]
     },
     "execution_count": 35,
     "metadata": {},
     "output_type": "execute_result"
    }
   ],
   "source": [
    "R = np.array([[ 0.321, -0.117,  0.940],\n",
    "              [ 0.683,  0.716, -0.145],\n",
    "              [-0.656,  0.688,  0.310]])\n",
    "R"
   ]
  },
  {
   "cell_type": "code",
   "execution_count": null,
   "metadata": {},
   "outputs": [
    {
     "data": {
      "text/plain": [
       "array([0.766, 0.272, 0.521, 0.261])"
      ]
     },
     "execution_count": 36,
     "metadata": {},
     "output_type": "execute_result"
    }
   ],
   "source": [
    "r11 = R[0,0]; r12 = R[0,1]; r13 = R[0,2]\n",
    "r21 = R[1,0]; r22 = R[1,1]; r23 = R[1,2]\n",
    "r31 = R[2,0]; r32 = R[2,1]; r33 = R[2,2]\n",
    "\n",
    "w = 0.5 * np.sqrt(1+r11+r22+r33)\n",
    "ex = 1/(4*w)*(r32-r23)\n",
    "ey = 1/(4*w)*(r13-r31)\n",
    "ez = 1/(4*w)*(r21-r12)\n",
    "\n",
    "Q = [w, ex, ey, ez]\n",
    "np.round(Q,3)"
   ]
  },
  {
   "cell_type": "code",
   "execution_count": null,
   "metadata": {},
   "outputs": [
    {
     "data": {
      "text/plain": [
       "array([[ 0.321, -0.117,  0.94 ],\n",
       "       [ 0.683,  0.716, -0.144],\n",
       "       [-0.656,  0.689,  0.31 ]])"
      ]
     },
     "execution_count": 37,
     "metadata": {},
     "output_type": "execute_result"
    }
   ],
   "source": [
    "# Matriz de rotación equivalente\n",
    "R = np.array([[2*(w**2+ex**2)-1,   2*(ex*ey-w*ez),   2*(ex*ez+w*ey)],\n",
    "              [  2*(ex*ey+w*ez), 2*(w**2+ey**2)-1,   2*(ey*ez-w*ex)],\n",
    "              [  2*(ex*ez-w*ey),   2*(ey*ez+w*ex), 2*(w**2+ez**2)-1]])\n",
    "\n",
    "np.round(R, 3)"
   ]
  }
 ],
 "metadata": {
  "kernelspec": {
   "display_name": "Python 3.9.12 ('base')",
   "language": "python",
   "name": "python3"
  },
  "language_info": {
   "codemirror_mode": {
    "name": "ipython",
    "version": 3
   },
   "file_extension": ".py",
   "mimetype": "text/x-python",
   "name": "python",
   "nbconvert_exporter": "python",
   "pygments_lexer": "ipython3",
   "version": "3.11.4"
  },
  "orig_nbformat": 4,
  "vscode": {
   "interpreter": {
    "hash": "470260c6919e9ff48e1a573ae64d2f776c76ca8b99100eba78f1a4e3574395cd"
   }
  }
 },
 "nbformat": 4,
 "nbformat_minor": 2
}
